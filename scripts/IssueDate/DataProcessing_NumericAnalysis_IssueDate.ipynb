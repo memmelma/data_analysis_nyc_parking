{
 "cells": [
  {
   "cell_type": "markdown",
   "metadata": {},
   "source": [
    "# Data Processing Issue Date\n",
    "\n",
    "### Ziel dieser Analyse\n",
    "    \n",
    "### Information zur Herleitung der Daten\n",
    "\n",
    "Um weiter Informationen zu erhalten wie die einzelnen Dateien hergeleitet werden, schaue bitte in die _DataPreproDataPreprocessing_NumericAnalysis_ dort ist erörtet wie diese Dateien zustande kommen."
   ]
  },
  {
   "cell_type": "code",
   "execution_count": 5,
   "metadata": {
    "scrolled": false
   },
   "outputs": [
    {
     "ename": "KeyError",
     "evalue": "'PLOTLY_SIGNIN_KEY'",
     "output_type": "error",
     "traceback": [
      "\u001b[0;31m---------------------------------------------------------------------------\u001b[0m",
      "\u001b[0;31mKeyError\u001b[0m                                  Traceback (most recent call last)",
      "\u001b[0;32m<ipython-input-5-81512cd99bf5>\u001b[0m in \u001b[0;36m<module>\u001b[0;34m()\u001b[0m\n\u001b[1;32m     14\u001b[0m \u001b[0;34m\u001b[0m\u001b[0m\n\u001b[1;32m     15\u001b[0m \u001b[0;32mimport\u001b[0m \u001b[0mos\u001b[0m\u001b[0;34m\u001b[0m\u001b[0m\n\u001b[0;32m---> 16\u001b[0;31m \u001b[0mprint\u001b[0m\u001b[0;34m(\u001b[0m\u001b[0mos\u001b[0m\u001b[0;34m.\u001b[0m\u001b[0menviron\u001b[0m\u001b[0;34m[\u001b[0m\u001b[0;34m'PLOTLY_SIGNIN_KEY'\u001b[0m\u001b[0;34m]\u001b[0m\u001b[0;34m)\u001b[0m\u001b[0;34m\u001b[0m\u001b[0m\n\u001b[0m\u001b[1;32m     17\u001b[0m \u001b[0mprint\u001b[0m\u001b[0;34m(\u001b[0m\u001b[0;34m'all ready!!'\u001b[0m\u001b[0;34m)\u001b[0m\u001b[0;34m\u001b[0m\u001b[0m\n",
      "\u001b[0;32m/opt/conda/lib/python3.6/os.py\u001b[0m in \u001b[0;36m__getitem__\u001b[0;34m(self, key)\u001b[0m\n\u001b[1;32m    667\u001b[0m         \u001b[0;32mexcept\u001b[0m \u001b[0mKeyError\u001b[0m\u001b[0;34m:\u001b[0m\u001b[0;34m\u001b[0m\u001b[0m\n\u001b[1;32m    668\u001b[0m             \u001b[0;31m# raise KeyError with the original key value\u001b[0m\u001b[0;34m\u001b[0m\u001b[0;34m\u001b[0m\u001b[0m\n\u001b[0;32m--> 669\u001b[0;31m             \u001b[0;32mraise\u001b[0m \u001b[0mKeyError\u001b[0m\u001b[0;34m(\u001b[0m\u001b[0mkey\u001b[0m\u001b[0;34m)\u001b[0m \u001b[0;32mfrom\u001b[0m \u001b[0;32mNone\u001b[0m\u001b[0;34m\u001b[0m\u001b[0m\n\u001b[0m\u001b[1;32m    670\u001b[0m         \u001b[0;32mreturn\u001b[0m \u001b[0mself\u001b[0m\u001b[0;34m.\u001b[0m\u001b[0mdecodevalue\u001b[0m\u001b[0;34m(\u001b[0m\u001b[0mvalue\u001b[0m\u001b[0;34m)\u001b[0m\u001b[0;34m\u001b[0m\u001b[0m\n\u001b[1;32m    671\u001b[0m \u001b[0;34m\u001b[0m\u001b[0m\n",
      "\u001b[0;31mKeyError\u001b[0m: 'PLOTLY_SIGNIN_KEY'"
     ]
    }
   ],
   "source": [
    "#!pip install plotly # <-- don't know how to add this to the moduls folder\n",
    "import feather as fth  \n",
    "import plotly.graph_objs as go\n",
    "import numpy as np # linear algebra\n",
    "import pandas as pd # data processing, CSV file I/O (e.g. pd.read_csv)\n",
    "import plotly.plotly as plotly\n",
    "\n",
    "sumtodatedir ='../../data/nyc_parking_tickets/NumericAnalysis/SumToDate/'\n",
    "sumtomonthdir ='../../data/nyc_parking_tickets/NumericAnalysis/SumToMonth/'\n",
    "\n",
    "plotly.sign_in('Erikion', 'kJqwoQYgfBPic2zglYio') # sign in to create the nice graphs\n",
    "\n",
    "print('all ready!!')"
   ]
  },
  {
   "cell_type": "markdown",
   "metadata": {},
   "source": [
    "## Beschreibung für Tag"
   ]
  },
  {
   "cell_type": "code",
   "execution_count": null,
   "metadata": {},
   "outputs": [],
   "source": [
    "file = 'SumToDate_AllTime.fth'\n",
    "path = sumtodatedir+file\n",
    "data2017 = fth.read_dataframe(path)\n",
    "\n",
    "numdata2017 = go.Scatter(\n",
    "                x=data2017['Issue Date'],\n",
    "                y=data2017['count'])\n",
    "\n",
    "numdata =[numdata2017]\n",
    "\n",
    "plotly.iplot(numdata, filename = 'All Time')"
   ]
  },
  {
   "cell_type": "code",
   "execution_count": 2,
   "metadata": {
    "scrolled": false
   },
   "outputs": [
    {
     "data": {
      "text/html": [
       "<iframe id=\"igraph\" scrolling=\"no\" style=\"border:none;\" seamless=\"seamless\" src=\"https://plot.ly/~Erikion/77.embed\" height=\"525px\" width=\"100%\"></iframe>"
      ],
      "text/plain": [
       "<plotly.tools.PlotlyDisplay object>"
      ]
     },
     "execution_count": 2,
     "metadata": {},
     "output_type": "execute_result"
    }
   ],
   "source": [
    "file = 'SumToDate_AllTime.fth'\n",
    "path = sumtodatedir+file\n",
    "data2017 = fth.read_dataframe(path)\n",
    "\n",
    "numdata2017 = go.Scatter(\n",
    "                x=data2017['Issue Date'],\n",
    "                y=data2017['count'])\n",
    "\n",
    "numdata =[numdata2017]\n",
    "\n",
    "plotly.iplot(numdata, filename = 'All Time in Days')"
   ]
  },
  {
   "cell_type": "markdown",
   "metadata": {},
   "source": [
    "## Beschreibung für Monat"
   ]
  },
  {
   "cell_type": "code",
   "execution_count": 3,
   "metadata": {},
   "outputs": [
    {
     "data": {
      "text/html": [
       "<iframe id=\"igraph\" scrolling=\"no\" style=\"border:none;\" seamless=\"seamless\" src=\"https://plot.ly/~Erikion/77.embed\" height=\"525px\" width=\"100%\"></iframe>"
      ],
      "text/plain": [
       "<plotly.tools.PlotlyDisplay object>"
      ]
     },
     "execution_count": 3,
     "metadata": {},
     "output_type": "execute_result"
    }
   ],
   "source": [
    "file = 'SumToMonth_2017.fth'\n",
    "path = sumtomonthdir+file\n",
    "data2017 = fth.read_dataframe(path)\n",
    "\n",
    "numdata2017 = go.Scatter(\n",
    "                x=data2017['Issue Date'],\n",
    "                y=data2017['count'])\n",
    "\n",
    "numdata =[numdata2017]\n",
    "\n",
    "plotly.iplot(numdata, filename = 'Year 2017')"
   ]
  },
  {
   "cell_type": "code",
   "execution_count": null,
   "metadata": {},
   "outputs": [],
   "source": [
    "file = 'SumToMonth_AllTime.fth'\n",
    "path = sumtomonthdir+file\n",
    "data2017 = fth.read_dataframe(path)\n",
    "\n",
    "numdata2017 = go.Scatter(\n",
    "                x=data2017['Issue Date'],\n",
    "                y=data2017['count'])\n",
    "\n",
    "numdata =[numdata2017]\n",
    "\n",
    "plotly.iplot(numdata, filename = 'All Time in Months')"
   ]
  }
 ],
 "metadata": {
  "kernelspec": {
   "display_name": "Python 3",
   "language": "python",
   "name": "python3"
  },
  "language_info": {
   "codemirror_mode": {
    "name": "ipython",
    "version": 3
   },
   "file_extension": ".py",
   "mimetype": "text/x-python",
   "name": "python",
   "nbconvert_exporter": "python",
   "pygments_lexer": "ipython3",
   "version": "3.6.5"
  }
 },
 "nbformat": 4,
 "nbformat_minor": 2
}
