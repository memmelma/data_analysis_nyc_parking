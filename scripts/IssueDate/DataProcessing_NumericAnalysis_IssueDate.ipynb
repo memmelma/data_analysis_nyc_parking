{
 "cells": [
  {
   "cell_type": "markdown",
   "metadata": {},
   "source": [
    "# Data Processing Issue Date\n",
    "\n",
    "### Ziel dieser Analyse\n",
    "\n",
    "Von uns wurde die Vermutung aufgestellt, dass es ähnlich wie in Deutschland eine Art \"Blitzermarathon\" nur für Parktickets gibt. Diese These wollten wir nun durch die Durchführung dieser Analyse bestätigen oder hinterlegen.\n",
    "    \n",
    "### Information zur Herleitung der Daten\n",
    "\n",
    "Um weiter Informationen zu erhalten wie die einzelnen Dateien hergeleitet werden, schaue bitte in die _DataPreproDataPreprocessing_NumericAnalysis_ dort ist erörtet wie diese Dateien zustande kommen.\n",
    "\n",
    "### Handhabung der Plot Abschnitte\n",
    "\n",
    "In den Beiden Abschnitten gibt es jeweils eine Funktion, welche den gesammten Zeitraum darlegt. In dem jeweils ersten Abschnitt kann man sich verschiedene Jahre, in Tagen oder Monaten, plotten lassen. Dazu muss man lediglich die Jahreszahlen in den Files anpassen. "
   ]
  },
  {
   "cell_type": "code",
   "execution_count": 1,
   "metadata": {
    "scrolled": false
   },
   "outputs": [
    {
     "name": "stdout",
     "output_type": "stream",
     "text": [
      "all ready!!\n"
     ]
    }
   ],
   "source": [
    "import feather as fth  \n",
    "import plotly.graph_objs as go\n",
    "import numpy as np # linear algebra\n",
    "import pandas as pd # data processing, CSV file I/O (e.g. pd.read_csv)\n",
    "import plotly.plotly as plotly\n",
    "\n",
    "sumtodatedir ='../../data/nyc_parking_tickets/NumericAnalysis/SumToDate/'\n",
    "sumtomonthdir ='../../data/nyc_parking_tickets/NumericAnalysis/SumToMonth/'\n",
    "\n",
    "plotly.sign_in('Erikion', 'kJqwoQYgfBPic2zglYio') # sign in to create the nice graphs\n",
    "\n",
    "print('all ready!!')"
   ]
  },
  {
   "cell_type": "markdown",
   "metadata": {},
   "source": [
    "## Beschreibung für Tag"
   ]
  },
  {
   "cell_type": "code",
   "execution_count": 2,
   "metadata": {},
   "outputs": [
    {
     "data": {
      "text/html": [
       "<iframe id=\"igraph\" scrolling=\"no\" style=\"border:none;\" seamless=\"seamless\" src=\"https://plot.ly/~Erikion/79.embed\" height=\"525px\" width=\"100%\"></iframe>"
      ],
      "text/plain": [
       "<plotly.tools.PlotlyDisplay object>"
      ]
     },
     "execution_count": 2,
     "metadata": {},
     "output_type": "execute_result"
    }
   ],
   "source": [
    "file = 'SumToDate_2017.fth' # change 2017 for example to 2015 \n",
    "path = sumtodatedir+file\n",
    "data2017 = fth.read_dataframe(path)\n",
    "\n",
    "numdata2017 = go.Scatter(\n",
    "                x=data2017['Issue Date'],\n",
    "                y=data2017['count'])\n",
    "\n",
    "numdata =[numdata2017]\n",
    "\n",
    "plotly.iplot(numdata, filename = 'All Time')"
   ]
  },
  {
   "cell_type": "code",
   "execution_count": 2,
   "metadata": {
    "scrolled": false
   },
   "outputs": [
    {
     "data": {
      "text/html": [
       "<iframe id=\"igraph\" scrolling=\"no\" style=\"border:none;\" seamless=\"seamless\" src=\"https://plot.ly/~Erikion/77.embed\" height=\"525px\" width=\"100%\"></iframe>"
      ],
      "text/plain": [
       "<plotly.tools.PlotlyDisplay object>"
      ]
     },
     "execution_count": 2,
     "metadata": {},
     "output_type": "execute_result"
    }
   ],
   "source": [
    "file = 'SumToDate_AllTime.fth'\n",
    "path = sumtodatedir+file\n",
    "data2017 = fth.read_dataframe(path)\n",
    "\n",
    "numdata2017 = go.Scatter(\n",
    "                x=data2017['Issue Date'],\n",
    "                y=data2017['count'])\n",
    "\n",
    "numdata =[numdata2017]\n",
    "\n",
    "plotly.iplot(numdata, filename = 'All Time in Days')"
   ]
  },
  {
   "cell_type": "markdown",
   "metadata": {},
   "source": [
    "## Beschreibung für Monat"
   ]
  },
  {
   "cell_type": "code",
   "execution_count": 3,
   "metadata": {},
   "outputs": [
    {
     "data": {
      "text/html": [
       "<iframe id=\"igraph\" scrolling=\"no\" style=\"border:none;\" seamless=\"seamless\" src=\"https://plot.ly/~Erikion/77.embed\" height=\"525px\" width=\"100%\"></iframe>"
      ],
      "text/plain": [
       "<plotly.tools.PlotlyDisplay object>"
      ]
     },
     "execution_count": 3,
     "metadata": {},
     "output_type": "execute_result"
    }
   ],
   "source": [
    "file = 'SumToMonth_2017.fth'\n",
    "path = sumtomonthdir+file\n",
    "data2017 = fth.read_dataframe(path)\n",
    "\n",
    "numdata2017 = go.Scatter(\n",
    "                x=data2017['Issue Date'],\n",
    "                y=data2017['count'])\n",
    "\n",
    "numdata =[numdata2017]\n",
    "\n",
    "plotly.iplot(numdata, filename = 'Year 2017')"
   ]
  },
  {
   "cell_type": "code",
   "execution_count": null,
   "metadata": {},
   "outputs": [],
   "source": [
    "file = 'SumToMonth_AllTime.fth'\n",
    "path = sumtomonthdir+file\n",
    "data2017 = fth.read_dataframe(path)\n",
    "\n",
    "numdata2017 = go.Scatter(\n",
    "                x=data2017['Issue Date'],\n",
    "                y=data2017['count'])\n",
    "\n",
    "numdata =[numdata2017]\n",
    "\n",
    "plotly.iplot(numdata, filename = 'All Time in Months')"
   ]
  }
 ],
 "metadata": {
  "kernelspec": {
   "display_name": "Python 3",
   "language": "python",
   "name": "python3"
  },
  "language_info": {
   "codemirror_mode": {
    "name": "ipython",
    "version": 3
   },
   "file_extension": ".py",
   "mimetype": "text/x-python",
   "name": "python",
   "nbconvert_exporter": "python",
   "pygments_lexer": "ipython3",
   "version": "3.6.4"
  }
 },
 "nbformat": 4,
 "nbformat_minor": 2
}
