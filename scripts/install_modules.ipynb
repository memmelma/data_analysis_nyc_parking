{
 "cells": [
  {
   "cell_type": "markdown",
   "metadata": {},
   "source": [
    "## Install used modules\n",
    "If you are using the plain docker image jupyter/datascience-notebook, you have to run the following cell once.\n",
    "All the modules needed for all of our notebooks will be automaticly installed."
   ]
  },
  {
   "cell_type": "code",
   "execution_count": null,
   "metadata": {},
   "outputs": [
    {
     "name": "stdout",
     "output_type": "stream",
     "text": [
      "Collecting cufflinks\n",
      "  Downloading https://files.pythonhosted.org/packages/77/03/41417334cd40090889feb31f0f08f70279b5ceb6a0941ebe84b8fedcd201/cufflinks-0.12.1.tar.gz (49kB)\n",
      "\u001b[K    100% |████████████████████████████████| 51kB 820kB/s ta 0:00:01\n",
      "\u001b[?25hCollecting pandas (from cufflinks)\n",
      "  Downloading https://files.pythonhosted.org/packages/da/c6/0936bc5814b429fddb5d6252566fe73a3e40372e6ceaf87de3dec1326f28/pandas-0.22.0-cp36-cp36m-manylinux1_x86_64.whl (26.2MB)\n",
      "\u001b[K    79% |█████████████████████████▋      | 21.0MB 3.3MB/s eta 0:00:02   7% |██▍                             | 2.0MB 3.9MB/s eta 0:00:07"
     ]
    }
   ],
   "source": [
    "!pip install cufflinks --upgrade\n",
    "\n",
    "!jupyter nbextension enable --py --sys-prefix widgetsnbextension\n",
    "\n",
    "!pip install gmaps\n",
    "!jupyter nbextension enable --py --sys-prefix gmaps\n",
    "\n",
    "!pip install googlemaps\n",
    "\n",
    "!pip install folium\n",
    "\n",
    "!pip install plotly\n",
    "\n",
    "!conda install -y feather-format -c conda-forge\n",
    "\n",
    "print('-------------------------Finished!-------------------------')"
   ]
  },
  {
   "cell_type": "code",
   "execution_count": null,
   "metadata": {},
   "outputs": [],
   "source": []
  }
 ],
 "metadata": {
  "kernelspec": {
   "display_name": "Python 3",
   "language": "python",
   "name": "python3"
  },
  "language_info": {
   "codemirror_mode": {
    "name": "ipython",
    "version": 3
   },
   "file_extension": ".py",
   "mimetype": "text/x-python",
   "name": "python",
   "nbconvert_exporter": "python",
   "pygments_lexer": "ipython3",
   "version": "3.6.5"
  }
 },
 "nbformat": 4,
 "nbformat_minor": 2
}
