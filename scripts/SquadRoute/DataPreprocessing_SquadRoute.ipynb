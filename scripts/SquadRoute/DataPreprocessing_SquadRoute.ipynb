{
 "cells": [
  {
   "cell_type": "markdown",
   "metadata": {},
   "source": [
    "# Squad Route\n",
    "## Introduction\n",
    "This project is all about predicting the route of a police squad issuing parking tickets in new york city. Therefore we use the official dataset provided by the city of new york, which documents every single parking ticket issued in the fiscal year 2017.\n",
    "\n",
    "## Setup & Modules\n",
    "Before running this notebook, make sure that you installed all the used modules (-> modules_install).\n",
    "\n",
    "For saving our files, we chose the *feather* format. In comparison to *csv*, *feather* is a column orientated file format. This improves the reading speed of complete columns up to 30x over csv. Because we always read in the whole columns of the dataset, this format is perfect for our use.\n",
    "\n",
    "For the dataprocessing we use DataFrame's provided by the pandas module. This gives us plenty of options to simply read, modify and save our data.\n",
    "\n",
    "If pandas is not enough, we sometimes use numpy, which is a module for linear algebra and array operations."
   ]
  },
  {
   "cell_type": "code",
   "execution_count": 61,
   "metadata": {},
   "outputs": [
    {
     "name": "stdout",
     "output_type": "stream",
     "text": [
      "In ../../data/nyc_parking_tickets/Parking_Violations_Issued_-_Fiscal_Year_2017.csv\n",
      "Out ../../data/nyc_parking_tickets/squad_route/squad_route_time_A1_09292016_Parking_Violations_16.fth\n"
     ]
    }
   ],
   "source": [
    "import numpy as np # linear algebra\n",
    "import pandas as pd # data processing, CSV file I/O (e.g. pd.read_csv)\n",
    "import feather as fth # fast file format for reading whole columns\n",
    "\n",
    "precinct = '1'\n",
    "squad = 'A'\n",
    "year = '2016' #year when the ticket was recorded -> real year\n",
    "tmpyear = str(int(date[-2:]) + 1) #fiscal year\n",
    "date ='09/29/' + year\n",
    "\n",
    "# 24, 25, 26, 27, 28, 29, 30\n",
    "datadirIn = '../../data/nyc_parking_tickets/'\n",
    "datadirOut = '../../data/nyc_parking_tickets/squad_route/'\n",
    "fileNameIn = 'Parking_Violations_Issued_-_Fiscal_Year_'+ yearIn\n",
    "fileFormatIn = '.csv'\n",
    "fileFormatOut = '.fth'\n",
    "\n",
    "pathIn = datadirIn + fileNameIn + fileFormatIn\n",
    "pathOut = datadirOut + 'squad_route_time_' + squad + precinct + '_' + date.replace('/', '') + '_Parking_Violations_' + tmpyear + fileFormatOut\n",
    "\n",
    "print('In ' + pathIn)\n",
    "print('Out ' + pathOut)"
   ]
  },
  {
   "cell_type": "markdown",
   "metadata": {},
   "source": [
    "## Data Preprocessing I - Extracting data\n",
    "\n",
    "Before we can analyse the tickets recorded by a single police squad on a specific date.\n",
    "\n",
    "Therefore we have to load our original dataset (provided by the city of new york) and extract the entries with matching *squad, precinct* and *date* values.\n",
    "\n",
    "For better performance we decided to read the csv-file in chunks, so the memory does not overflow.\n",
    "\n",
    "After we extracted the tuples, we save the file as feather in our data-directory for later use."
   ]
  },
  {
   "cell_type": "code",
   "execution_count": 62,
   "metadata": {
    "scrolled": true
   },
   "outputs": [
    {
     "name": "stdout",
     "output_type": "stream",
     "text": [
      "Read: 10900000 Found: 2422\n",
      "File saved as ../../data/nyc_parking_tickets/squad_route/squad_route_time_A1_09292016_Parking_Violations_16.fth\n",
      "Successful\n"
     ]
    }
   ],
   "source": [
    "#load whole dataset in chunks\n",
    "#select data by precinct, squad and date\n",
    "#write to feather\n",
    "\n",
    "\n",
    "dtype = {'Street Name': object, 'House Number': object, 'Issuer Squad': object, 'Violation Precinct': object, 'Violation Time': object}\n",
    "cols = ['Street Name','House Number','Issue Date', 'Issuer Squad', 'Violation Precinct', 'Violation Time']\n",
    "csize = 100000\n",
    "\n",
    "data = pd.DataFrame()\n",
    "readcount = 0\n",
    "foundcount = 0\n",
    "\n",
    "reader = pd.read_csv(pathIn, chunksize = csize, sep=',', dtype=dtype, usecols=cols)\n",
    "#, error_bad_lines=False\n",
    "\n",
    "for chunk in reader:\n",
    "    #all criteria\n",
    "        #chunk = chunk[chunk['Issue Date'].str.contains(date) & (chunk['Issuer Squad'] == squad) & (chunk['Violation Precinct'] == precinct)]\n",
    "    #issue date and violation precinct\n",
    "        #chunk = chunk[chunk['Issue Date'].str.contains(date) & (chunk['Violation Precinct'] == precinct)]\n",
    "    #issue date and issuer squad\n",
    "        chunk = chunk[chunk['Issue Date'].str.contains(date) & (chunk['Issuer Squad'] == squad)]\n",
    "        \n",
    "        data = pd.concat([data, chunk])\n",
    "        readcount = readcount + csize\n",
    "        print('Read: ' + str(readcount) + ' Found: ' + str(len(data)), end='\\r')\n",
    "\n",
    "print('Read: ' + str(readcount) + ' Found: ' + str(len(data)))\n",
    "if len(data) != 0:\n",
    "    fth.write_dataframe(data, pathOut)\n",
    "    print('File saved as ' + pathOut)\n",
    "print('Successful')"
   ]
  },
  {
   "cell_type": "markdown",
   "metadata": {},
   "source": [
    "If you want to have a look at the file saved by the cell above, just run the following cell."
   ]
  },
  {
   "cell_type": "code",
   "execution_count": null,
   "metadata": {
    "scrolled": true
   },
   "outputs": [],
   "source": [
    "#check a feather file's dataset\n",
    "df = fth.read_dataframe(pathOut)\n",
    "print(df.head())"
   ]
  },
  {
   "cell_type": "code",
   "execution_count": null,
   "metadata": {},
   "outputs": [],
   "source": []
  }
 ],
 "metadata": {
  "kernelspec": {
   "display_name": "Python 3",
   "language": "python",
   "name": "python3"
  },
  "language_info": {
   "codemirror_mode": {
    "name": "ipython",
    "version": 3
   },
   "file_extension": ".py",
   "mimetype": "text/x-python",
   "name": "python",
   "nbconvert_exporter": "python",
   "pygments_lexer": "ipython3",
   "version": "3.6.5"
  }
 },
 "nbformat": 4,
 "nbformat_minor": 2
}
