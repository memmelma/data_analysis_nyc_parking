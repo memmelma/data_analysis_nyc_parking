{
 "cells": [
  {
   "cell_type": "code",
   "execution_count": 63,
   "metadata": {},
   "outputs": [
    {
     "name": "stdout",
     "output_type": "stream",
     "text": [
      "../../data/nyc_parking_tickets/Parking_Violations_Issued_-_Fiscal_Year_2017.csv\n",
      "../../data/nyc_parking_tickets/squad_route/squad_route_time_A12_09272016_Parking_Violations_17.fth\n"
     ]
    }
   ],
   "source": [
    "import numpy as np # linear algebra\n",
    "import pandas as pd # data processing, CSV file I/O (e.g. pd.read_csv)\n",
    "import feather as fth # fast file format for reading whole columns\n",
    "\n",
    "precinct = '12'\n",
    "squad = 'A'\n",
    "date ='09/27/2016'\n",
    "\n",
    "datadirIn = '../../data/nyc_parking_tickets/'\n",
    "datadirOut = '../../data/nyc_parking_tickets/squad_route/'\n",
    "fileNameIn = 'Parking_Violations_Issued_-_Fiscal_Year_2017'\n",
    "#fileNameOut = 'squad_route_time_' + precinct + squad + '_Parking_Violations_Issued_-_Fiscal_Year_2017'\n",
    "fileFormatIn = '.csv'\n",
    "fileFormatOut = '.fth'\n",
    "\n",
    "pathIn = datadirIn + fileNameIn + fileFormatIn\n",
    "pathOut = datadirOut + 'squad_route_time_' + squad + precinct + '_' + date.replace('/', '') + '_Parking_Violations_17' + fileFormatOut\n",
    "\n",
    "print(pathIn)\n",
    "print(pathOut)"
   ]
  },
  {
   "cell_type": "markdown",
   "metadata": {},
   "source": [
    "Before we can analyse the tickets recorded by single squad on a specific date, we have to load the dataset and extract the entries with matching squad, precinct and date.\n",
    "\n",
    "For better performance we decided to read the .csv-file in chunks, so the memory does not overflow.\n",
    "\n",
    "After we extracted the tuples, we save the file in our data-directory for later use.\n",
    "\n",
    "We chose the feather format for our saved files, because we always read whole columns and the format is up to 30x faster than common csv doing that."
   ]
  },
  {
   "cell_type": "code",
   "execution_count": 66,
   "metadata": {
    "scrolled": true
   },
   "outputs": [
    {
     "name": "stdout",
     "output_type": "stream",
     "text": [
      "Read: 7700000 Found: 63\n",
      "File saved as ../../data/nyc_parking_tickets/squad_route/squad_route_time_A12_09272016_Parking_Violations_17.fth\n",
      "Successful\n"
     ]
    }
   ],
   "source": [
    "#load whole dataset in chunks\n",
    "#select data by precinct, squad and date\n",
    "#write to feather\n",
    "\n",
    "\n",
    "dtype = {'Street Name': object, 'House Number': object, 'Issuer Squad': object, 'Violation Precinct': object, 'Violation Time': object}\n",
    "cols = ['Street Name','House Number','Issue Date', 'Issuer Squad', 'Violation Precinct', 'Violation Time']\n",
    "csize = 100000\n",
    "\n",
    "data = pd.DataFrame()\n",
    "readcount = 0\n",
    "foundcount = 0\n",
    "\n",
    "reader = pd.read_csv(pathIn, chunksize = csize, sep=',', dtype=dtype, usecols=cols)\n",
    "#, error_bad_lines=False\n",
    "\n",
    "for chunk in reader:\n",
    "        chunk = chunk[chunk['Issue Date'].str.contains(date) & (chunk['Issuer Squad'] == squad) & chunk['Violation Precinct'].str.contains(precinct)]\n",
    "        data = pd.concat([data, chunk])\n",
    "        readcount = readcount + csize\n",
    "        print('Read: ' + str(readcount) + ' Found: ' + str(len(data)), end='\\r')\n",
    "\n",
    "print('Read: ' + str(readcount) + ' Found: ' + str(len(data)))\n",
    "fth.write_dataframe(data, pathOut)\n",
    "print('File saved as ' + pathOut)\n",
    "print('Successful')"
   ]
  },
  {
   "cell_type": "markdown",
   "metadata": {},
   "source": [
    "If you want to have a look at the file saved by the cell above, just run the following cell."
   ]
  },
  {
   "cell_type": "code",
   "execution_count": 67,
   "metadata": {
    "scrolled": true
   },
   "outputs": [
    {
     "name": "stdout",
     "output_type": "stream",
     "text": [
      "   Issue Date Violation Precinct Issuer Squad Violation Time House Number  \\\n",
      "0  09/27/2016                122            A          0851A          360   \n",
      "1  09/27/2016                120            A          0930A           42   \n",
      "2  09/27/2016                120            A          1022A          294   \n",
      "3  09/27/2016                122            A          1003A          275   \n",
      "4  09/27/2016                120            A          0827A           25   \n",
      "\n",
      "   Street Name  \n",
      "0  Seaview Ave  \n",
      "1  Norwood Ave  \n",
      "2     Bard Ave  \n",
      "3    Mason Ave  \n",
      "4     Wayne St  \n"
     ]
    }
   ],
   "source": [
    "#check a feather file's dataset\n",
    "df = fth.read_dataframe(pathOut)\n",
    "print(df.head())"
   ]
  },
  {
   "cell_type": "code",
   "execution_count": null,
   "metadata": {},
   "outputs": [],
   "source": []
  }
 ],
 "metadata": {
  "kernelspec": {
   "display_name": "Python 3",
   "language": "python",
   "name": "python3"
  },
  "language_info": {
   "codemirror_mode": {
    "name": "ipython",
    "version": 3
   },
   "file_extension": ".py",
   "mimetype": "text/x-python",
   "name": "python",
   "nbconvert_exporter": "python",
   "pygments_lexer": "ipython3",
   "version": "3.6.3"
  }
 },
 "nbformat": 4,
 "nbformat_minor": 2
}
