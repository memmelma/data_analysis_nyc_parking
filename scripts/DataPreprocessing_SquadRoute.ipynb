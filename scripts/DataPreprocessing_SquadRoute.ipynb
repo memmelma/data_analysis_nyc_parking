{
 "cells": [
  {
   "cell_type": "code",
   "execution_count": 1,
   "metadata": {},
   "outputs": [],
   "source": [
    "import numpy as np # linear algebra\n",
    "import pandas as pd # data processing, CSV file I/O (e.g. pd.read_csv)\n",
    "\n",
    "datadir = '../data/nyc_parking_tickets/'\n",
    "file = 'Parking_Violations_Issued_-_Fiscal_Year_2017'\n",
    "fileformat = '.csv'\n",
    "path = datadir + file + fileformat"
   ]
  },
  {
   "cell_type": "code",
   "execution_count": 3,
   "metadata": {
    "scrolled": true
   },
   "outputs": [
    {
     "name": "stdout",
     "output_type": "stream",
     "text": [
      "Successful647 Found: 30043\n"
     ]
    }
   ],
   "source": [
    "#Load whole dataset in chunks\n",
    "\n",
    "precinct = '13'\n",
    "squad = 'M'\n",
    "dtype = {'Street Name': object, 'House Number': object, 'Issuer Squad': object, 'Violation Precinct': object}\n",
    "cols = ['Street Name','House Number','Issue Date', 'Issuer Squad', 'Violation Precinct']\n",
    "\n",
    "data = pd.DataFrame()\n",
    "readcount = 0\n",
    "foundcount = 0\n",
    "\n",
    "reader = pd.read_csv(path, chunksize = 1, sep=',', dtype=dtype, usecols=cols)\n",
    "#, error_bad_lines=False\n",
    "\n",
    "import feather as fth\n",
    "\n",
    "for chunk in reader:\n",
    "    \n",
    "    if squad in str(chunk['Issuer Squad']) and precinct in str(chunk['Violation Precinct']) :\n",
    "        data = pd.concat([data, chunk])\n",
    "        foundcount = foundcount + 1\n",
    "        \n",
    "    readcount = readcount + 1    \n",
    "    print('Read: ' + str(readcount) + ' Found: ' + str(foundcount), end='\\r')\n",
    "    \n",
    "fth.write_dataframe(data, path + 'squad_route_' + precinct + squad + '_' + file + '.fth')\n",
    "print('Successful')"
   ]
  },
  {
   "cell_type": "code",
   "execution_count": 5,
   "metadata": {
    "scrolled": true
   },
   "outputs": [
    {
     "name": "stdout",
     "output_type": "stream",
     "text": [
      "        Issue Date Violation Precinct Issuer Squad House Number Street Name\n",
      "count        30043              30043        30043        29929       30035\n",
      "unique         359                 74            1         6148        2606\n",
      "top     09/09/2016                 13            M            N     5th Ave\n",
      "freq           218               7968        30043         1549         790\n"
     ]
    }
   ],
   "source": [
    "import feather as fth\n",
    "\n",
    "df = fth.read_dataframe(path + 'squad_route_' + precinct + squad + '_' + file + '.fth')\n",
    "print(df.describe())"
   ]
  },
  {
   "cell_type": "code",
   "execution_count": null,
   "metadata": {},
   "outputs": [],
   "source": [
    "EXTRACT ONE DATE"
   ]
  }
 ],
 "metadata": {
  "kernelspec": {
   "display_name": "Python 3",
   "language": "python",
   "name": "python3"
  },
  "language_info": {
   "codemirror_mode": {
    "name": "ipython",
    "version": 3
   },
   "file_extension": ".py",
   "mimetype": "text/x-python",
   "name": "python",
   "nbconvert_exporter": "python",
   "pygments_lexer": "ipython3",
   "version": "3.6.3"
  }
 },
 "nbformat": 4,
 "nbformat_minor": 2
}
