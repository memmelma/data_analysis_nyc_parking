{
 "cells": [
  {
   "cell_type": "code",
   "execution_count": 18,
   "metadata": {},
   "outputs": [
    {
     "name": "stdout",
     "output_type": "stream",
     "text": [
      "../data/nyc_parking_tickets/Parking_Violations_Issued_-_Fiscal_Year_2017.csv\n",
      "../data/nyc_parking_tickets/squad_route_time13_06-19-2017_Parking_Violations_Issued_-_Fiscal_Year_2017.fth\n"
     ]
    }
   ],
   "source": [
    "import numpy as np # linear algebra\n",
    "import pandas as pd # data processing, CSV file I/O (e.g. pd.read_csv)\n",
    "\n",
    "precinct = '13'\n",
    "squad = ''\n",
    "date ='06/19/2017'\n",
    "\n",
    "datadir = '../data/nyc_parking_tickets/'\n",
    "fileNameIn = 'Parking_Violations_Issued_-_Fiscal_Year_2017'\n",
    "fileNameOut = 'squad_route_time13M_Parking_Violations_Issued_-_Fiscal_Year_2017'\n",
    "fileFormatIn = '.csv'\n",
    "fileFormatOut = '.fth'\n",
    "\n",
    "pathIn = datadir + fileNameIn + fileFormatIn\n",
    "pathOut = datadir + 'squad_route_time' + squad + precinct + '_' + date.replace('/', '-') + '_Parking_Violations_Issued_-_Fiscal_Year_2017' + fileFormatOut\n",
    "\n",
    "print(pathIn)\n",
    "print(pathOut)"
   ]
  },
  {
   "cell_type": "code",
   "execution_count": 19,
   "metadata": {
    "scrolled": true
   },
   "outputs": [
    {
     "name": "stdout",
     "output_type": "stream",
     "text": [
      "Read: 7700000 Found: 790\n",
      "File saved as ../data/nyc_parking_tickets/squad_route_time13_06-19-2017_Parking_Violations_Issued_-_Fiscal_Year_2017.fth\n",
      "Successful\n"
     ]
    }
   ],
   "source": [
    "#load whole dataset in chunks\n",
    "#select data by precinct, squad and date\n",
    "#write to feather\n",
    "\n",
    "\n",
    "dtype = {'Street Name': object, 'House Number': object, 'Issuer Squad': object, 'Violation Precinct': object, 'Violation Time': object}\n",
    "cols = ['Street Name','House Number','Issue Date', 'Issuer Squad', 'Violation Precinct', 'Violation Time']\n",
    "csize = 100000\n",
    "\n",
    "data = pd.DataFrame()\n",
    "readcount = 0\n",
    "foundcount = 0\n",
    "\n",
    "reader = pd.read_csv(pathIn, chunksize = csize, sep=',', dtype=dtype, usecols=cols)\n",
    "#, error_bad_lines=False\n",
    "\n",
    "import feather as fth\n",
    "\n",
    "for chunk in reader:\n",
    "        chunk = chunk[chunk['Issue Date'].str.contains(date) & chunk['Issuer Squad'].str.contains(squad) & chunk['Violation Precinct'].str.contains(precinct)]\n",
    "        data = pd.concat([data, chunk])\n",
    "        readcount = readcount + csize\n",
    "        print('Read: ' + str(readcount) + ' Found: ' + str(len(data)), end='\\r')\n",
    "\n",
    "print('Read: ' + str(readcount) + ' Found: ' + str(len(data)))\n",
    "fth.write_dataframe(data, pathOut)\n",
    "print('File saved as ' + pathOut)\n",
    "print('Successful')"
   ]
  },
  {
   "cell_type": "code",
   "execution_count": 22,
   "metadata": {
    "scrolled": true
   },
   "outputs": [
    {
     "name": "stdout",
     "output_type": "stream",
     "text": [
      "   Issue Date Violation Precinct Issuer Squad Violation Time House Number  \\\n",
      "0  06/19/2017                 13            M          0800A           27   \n",
      "1  06/19/2017                 13            I          0311P          285   \n",
      "2  06/19/2017                 13            E          1108A           51   \n",
      "3  06/19/2017                 13            F          0722A          345   \n",
      "4  06/19/2017                 13            P          1118A           24   \n",
      "\n",
      "      Street Name  \n",
      "0       W 23rd St  \n",
      "1         3rd Ave  \n",
      "2       W 28th St  \n",
      "3  Park Ave South  \n",
      "4       W 23rd St  \n"
     ]
    }
   ],
   "source": [
    "#check a feather file's dataset\n",
    "\n",
    "import feather as fth\n",
    "\n",
    "df = fth.read_dataframe(pathOut)\n",
    "print(df.head())"
   ]
  },
  {
   "cell_type": "code",
   "execution_count": 20,
   "metadata": {},
   "outputs": [
    {
     "data": {
      "text/html": [
       "<div>\n",
       "<table border=\"1\" class=\"dataframe\">\n",
       "  <thead>\n",
       "    <tr style=\"text-align: right;\">\n",
       "      <th></th>\n",
       "      <th>Issue Date</th>\n",
       "      <th>Violation Precinct</th>\n",
       "      <th>Issuer Squad</th>\n",
       "      <th>Violation Time</th>\n",
       "      <th>House Number</th>\n",
       "      <th>Street Name</th>\n",
       "    </tr>\n",
       "  </thead>\n",
       "  <tbody>\n",
       "    <tr>\n",
       "      <th>146</th>\n",
       "      <td>06/19/2017</td>\n",
       "      <td>13</td>\n",
       "      <td>M</td>\n",
       "      <td>0800A</td>\n",
       "      <td>27</td>\n",
       "      <td>W 23rd St</td>\n",
       "    </tr>\n",
       "    <tr>\n",
       "      <th>13778</th>\n",
       "      <td>06/19/2017</td>\n",
       "      <td>13</td>\n",
       "      <td>I</td>\n",
       "      <td>0311P</td>\n",
       "      <td>285</td>\n",
       "      <td>3rd Ave</td>\n",
       "    </tr>\n",
       "    <tr>\n",
       "      <th>16903</th>\n",
       "      <td>06/19/2017</td>\n",
       "      <td>13</td>\n",
       "      <td>E</td>\n",
       "      <td>1108A</td>\n",
       "      <td>51</td>\n",
       "      <td>W 28th St</td>\n",
       "    </tr>\n",
       "    <tr>\n",
       "      <th>42226</th>\n",
       "      <td>06/19/2017</td>\n",
       "      <td>13</td>\n",
       "      <td>F</td>\n",
       "      <td>0722A</td>\n",
       "      <td>345</td>\n",
       "      <td>Park Ave South</td>\n",
       "    </tr>\n",
       "    <tr>\n",
       "      <th>53037</th>\n",
       "      <td>06/19/2017</td>\n",
       "      <td>13</td>\n",
       "      <td>P</td>\n",
       "      <td>1118A</td>\n",
       "      <td>24</td>\n",
       "      <td>W 23rd St</td>\n",
       "    </tr>\n",
       "  </tbody>\n",
       "</table>\n",
       "</div>"
      ],
      "text/plain": [
       "       Issue Date Violation Precinct Issuer Squad Violation Time House Number  \\\n",
       "146    06/19/2017                 13            M          0800A           27   \n",
       "13778  06/19/2017                 13            I          0311P          285   \n",
       "16903  06/19/2017                 13            E          1108A           51   \n",
       "42226  06/19/2017                 13            F          0722A          345   \n",
       "53037  06/19/2017                 13            P          1118A           24   \n",
       "\n",
       "          Street Name  \n",
       "146         W 23rd St  \n",
       "13778         3rd Ave  \n",
       "16903       W 28th St  \n",
       "42226  Park Ave South  \n",
       "53037       W 23rd St  "
      ]
     },
     "execution_count": 20,
     "metadata": {},
     "output_type": "execute_result"
    }
   ],
   "source": [
    "data.head()"
   ]
  },
  {
   "cell_type": "code",
   "execution_count": null,
   "metadata": {},
   "outputs": [],
   "source": []
  }
 ],
 "metadata": {
  "kernelspec": {
   "display_name": "Python 3",
   "language": "python",
   "name": "python3"
  },
  "language_info": {
   "codemirror_mode": {
    "name": "ipython",
    "version": 3
   },
   "file_extension": ".py",
   "mimetype": "text/x-python",
   "name": "python",
   "nbconvert_exporter": "python",
   "pygments_lexer": "ipython3",
   "version": "3.6.3"
  }
 },
 "nbformat": 4,
 "nbformat_minor": 2
}
